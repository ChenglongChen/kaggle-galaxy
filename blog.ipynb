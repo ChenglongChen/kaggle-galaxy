{
 "metadata": {
  "name": ""
 },
 "nbformat": 3,
 "nbformat_minor": 0,
 "worksheets": [
  {
   "cells": [
    {
     "cell_type": "code",
     "collapsed": false,
     "input": [
      "import galaxy\n",
      "import numpy as np"
     ],
     "language": "python",
     "metadata": {},
     "outputs": [],
     "prompt_number": 1
    },
    {
     "cell_type": "code",
     "collapsed": false,
     "input": [
      "import pylab as pl\n",
      "import matplotlib.image as mpimg\n",
      "\n",
      "def plot_gallery(title, images, n_col, n_row):\n",
      "    pl.figure(figsize=(2. * n_col, 2.4 * n_row))\n",
      "    pl.suptitle(title, size=12)\n",
      "    for i, comp in enumerate(images):\n",
      "        pl.subplot(n_row, n_col, i + 1)\n",
      "        vmax = max(comp.max(), -comp.min())\n",
      "        pl.imshow(comp, cmap=pl.cm.gray,\n",
      "                  interpolation='nearest',\n",
      "                  vmin=-vmax, vmax=vmax)\n",
      "        pl.xticks(())\n",
      "        pl.yticks(())\n",
      "    pl.subplots_adjust(0.01, 0.05, 0.99, 0.93, 0.04, 0.)\n",
      "    pl.savefig(title+'.png')"
     ],
     "language": "python",
     "metadata": {},
     "outputs": [],
     "prompt_number": 17
    },
    {
     "cell_type": "code",
     "collapsed": false,
     "input": [
      "f = \"/media/kevin/0026A5FD26A5F3B6/kaggle/galaxy/training_solutions_rev1.csv\"\n",
      "responses, ids = galaxy.read_responses(f)\n",
      "mapping = galaxy.get_classes()\n",
      "\n",
      "for Class in xrange(1,12):\n",
      "    classes = np.nonzero(mapping==Class)[0]\n",
      "    for c in classes:\n",
      "        # argsort sorts in ascending order, so we take the last ones\n",
      "        selection = np.argsort(responses[:,c])[-3:]\n",
      "        print ids[selection], responses[selection,c]\n",
      "        filenames = [ \"/media/kevin/0026A5FD26A5F3B6/kaggle/galaxy/images_training_rev1/\"+galaxy_id+\".jpg\"\n",
      "                     for galaxy_id in ids[selection] ]\n",
      "        images = [ mpimg.imread(f) for f in filenames ]\n",
      "        plot_gallery(\"img/top3_Class\"+str(Class)+\"_\"+str(c), images, 3, 1)"
     ],
     "language": "python",
     "metadata": {},
     "outputs": [
      {
       "output_type": "stream",
       "stream": "stdout",
       "text": [
        "['480384' '528933' '283361'] [ 1.  1.  1.]\n",
        "['916109' '653621' '912586']"
       ]
      },
      {
       "output_type": "stream",
       "stream": "stdout",
       "text": [
        " [ 1.  1.  1.]\n",
        "['955102' '345209' '356310']"
       ]
      },
      {
       "output_type": "stream",
       "stream": "stdout",
       "text": [
        " [ 0.79379398  0.87645799  0.93514699]\n",
        "['344604' '438436' '731492']"
       ]
      },
      {
       "output_type": "stream",
       "stream": "stdout",
       "text": [
        " [ 1.  1.  1.]\n",
        "['848590' '807715' '918608']"
       ]
      },
      {
       "output_type": "stream",
       "stream": "stdout",
       "text": [
        " [ 1.  1.  1.]\n",
        "['789627' '943608' '205541']"
       ]
      },
      {
       "output_type": "stream",
       "stream": "stdout",
       "text": [
        " [ 1.  1.  1.]\n",
        "['730864' '432985' '680514']"
       ]
      },
      {
       "output_type": "stream",
       "stream": "stdout",
       "text": [
        " [ 1.  1.  1.]\n",
        "['916470' '463660' '267802']"
       ]
      },
      {
       "output_type": "stream",
       "stream": "stdout",
       "text": [
        " [ 1.  1.  1.]\n",
        "['787885' '332122' '780966']"
       ]
      },
      {
       "output_type": "stream",
       "stream": "stdout",
       "text": [
        " [ 0.91761202  0.92531067  0.95793724]\n",
        "['649092' '565099' '454627']"
       ]
      },
      {
       "output_type": "stream",
       "stream": "stdout",
       "text": [
        " [ 0.78756595  0.7918328   0.80355591]\n",
        "['723870' '786434' '706376']"
       ]
      },
      {
       "output_type": "stream",
       "stream": "stdout",
       "text": [
        " [ 0.92396736  0.94205803  0.96511197]\n",
        "['141605' '645010' '180894']"
       ]
      },
      {
       "output_type": "stream",
       "stream": "stdout",
       "text": [
        " [ 0.87049299  0.87085861  0.89103401]\n",
        "['340886' '260911' '877297']"
       ]
      },
      {
       "output_type": "stream",
       "stream": "stdout",
       "text": [
        " [ 0.62405777  0.62949294  0.65038276]\n",
        "['637115' '862877' '826038']"
       ]
      },
      {
       "output_type": "stream",
       "stream": "stdout",
       "text": [
        " [ 1.  1.  1.]\n",
        "['475749' '627226' '533018']"
       ]
      },
      {
       "output_type": "stream",
       "stream": "stdout",
       "text": [
        " [ 1.  1.  1.]\n",
        "['123695' '926649' '585988']"
       ]
      },
      {
       "output_type": "stream",
       "stream": "stdout",
       "text": [
        " [ 0.990592    0.99190903  1.        ]\n",
        "['740080' '891922' '545652']"
       ]
      },
      {
       "output_type": "stream",
       "stream": "stdout",
       "text": [
        " [ 1.  1.  1.]\n",
        "['516851' '469128' '834060']"
       ]
      },
      {
       "output_type": "stream",
       "stream": "stdout",
       "text": [
        " [ 0.84430093  0.84899998  0.88348103]\n",
        "['423414' '635698' '478315']"
       ]
      },
      {
       "output_type": "stream",
       "stream": "stdout",
       "text": [
        " [ 0.956276    0.95977503  0.96915698]\n",
        "['335040' '701364' '608304']"
       ]
      },
      {
       "output_type": "stream",
       "stream": "stdout",
       "text": [
        " [ 0.53313345  0.60056573  0.80773288]\n",
        "['105900' '406568' '869304']"
       ]
      },
      {
       "output_type": "stream",
       "stream": "stdout",
       "text": [
        " [ 0.56880873  0.57701302  0.59838992]\n",
        "['996138' '267853' '662018']"
       ]
      },
      {
       "output_type": "stream",
       "stream": "stdout",
       "text": [
        " [ 0.83106738  0.8456111   0.86000001]\n",
        "['496080' '293836' '471591']"
       ]
      },
      {
       "output_type": "stream",
       "stream": "stdout",
       "text": [
        " [ 0.76200002  0.78569698  0.79047036]\n",
        "['735007' '938264' '373505']"
       ]
      },
      {
       "output_type": "stream",
       "stream": "stdout",
       "text": [
        " [ 0.90903932  0.91237789  0.97100002]\n",
        "['600702' '282010' '868815']"
       ]
      },
      {
       "output_type": "stream",
       "stream": "stdout",
       "text": [
        " [ 0.67644471  0.71682072  0.71908766]\n",
        "['615009' '663584' '827293']"
       ]
      },
      {
       "output_type": "stream",
       "stream": "stdout",
       "text": [
        " [ 0.95543677  0.9588936   0.985982  ]\n",
        "['432748' '837501' '162557']"
       ]
      },
      {
       "output_type": "stream",
       "stream": "stdout",
       "text": [
        " [ 0.7920236   0.88376063  0.88949347]\n",
        "['139668' '686017' '107454']"
       ]
      },
      {
       "output_type": "stream",
       "stream": "stdout",
       "text": [
        " [ 0.87439042  0.88208199  0.90199101]\n",
        "['160851' '945755' '309198']"
       ]
      },
      {
       "output_type": "stream",
       "stream": "stdout",
       "text": [
        " [ 0.91851199  0.94300002  0.94973302]\n",
        "['871130' '375433' '121394']"
       ]
      },
      {
       "output_type": "stream",
       "stream": "stdout",
       "text": [
        " [ 0.8404448   0.85061598  0.87739301]\n",
        "['286459' '682613' '416488']"
       ]
      },
      {
       "output_type": "stream",
       "stream": "stdout",
       "text": [
        " [ 0.991539    0.99222302  0.996952  ]\n",
        "['864372' '734184' '848818']"
       ]
      },
      {
       "output_type": "stream",
       "stream": "stdout",
       "text": [
        " [ 0.86991298  0.87233156  0.88636327]\n",
        "['654565' '608316' '322689']"
       ]
      },
      {
       "output_type": "stream",
       "stream": "stdout",
       "text": [
        " [ 1.  1.  1.]\n",
        "['482305' '711231' '121006']"
       ]
      },
      {
       "output_type": "stream",
       "stream": "stdout",
       "text": [
        " [ 0.94671226  0.95074666  0.97591299]\n",
        "['267934' '163160' '233081']"
       ]
      },
      {
       "output_type": "stream",
       "stream": "stdout",
       "text": [
        " [ 0.86723536  0.936903    0.95700002]\n",
        "['104934' '236394' '495381']"
       ]
      },
      {
       "output_type": "stream",
       "stream": "stdout",
       "text": [
        " [ 0.87457502  0.91900003  0.93888116]\n",
        "['789514' '917648' '598442']"
       ]
      },
      {
       "output_type": "stream",
       "stream": "stdout",
       "text": [
        " [ 0.67074203  0.69532442  0.75308204]\n"
       ]
      }
     ],
     "prompt_number": 20
    }
   ],
   "metadata": {}
  }
 ]
}